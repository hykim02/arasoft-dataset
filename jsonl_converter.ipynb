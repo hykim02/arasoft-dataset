{
 "cells": [
  {
   "cell_type": "code",
   "execution_count": 1,
   "metadata": {},
   "outputs": [],
   "source": [
    "\n",
    "import json\n",
    "import os"
   ]
  },
  {
   "cell_type": "code",
   "execution_count": 2,
   "metadata": {},
   "outputs": [],
   "source": [
    "folder_names = [\n",
    "  \"숨겨진_보석을_찾아서_울릉도,독도(Page4)\", # 깊이 5, 아코디언형\n",
    "  \"2023년도_지역특화사업_이야기_-_통영_한산마을_~_함안_여항면_다랑논_~_산청_단계마을(Page47)\", # 깊이 3, 텍스트형\n",
    "  \"Internet_Advertising(Page10)\", # 깊이 4, 슬라이더형\n",
    "  \"Yogyakarta_Beaches(Page3)\", # 깊이 5, 텍스트형\n",
    "  \"Yogyakarta_Beaches(Page4)\", # 깊이 5, 슬라이더형\n",
    "  \"i3_아이빌리브(Page4)\", # 깊이 5, 이미지형\n",
    "  \"엘리스(Page4)\", # 깊이 6, 탭형\n",
    "  \"최세경작품집2(Page8)\", # 깊이 5, 이미지형\n",
    "  \"마쓰리의_나라_신의_나라(Page15)\", # 깊이 3, 텍스트형\n",
    "  \"Streetsea.id(Page4)\", # 깊이 5, 탭형\n",
    "]"
   ]
  },
  {
   "cell_type": "code",
   "execution_count": 3,
   "metadata": {},
   "outputs": [],
   "source": [
    "all_conversations_messages = []\n",
    "\n",
    "for folder_name in folder_names:\n",
    "    manuscript_path = os.path.join(\"datasets\", folder_name, \"manuscript.json\")\n",
    "    symbolic_tree_path = os.path.join(\"datasets\", folder_name, \"symbolic_tree.json\")\n",
    "\n",
    "    # 파일 불러오기\n",
    "    with open(manuscript_path, \"r\", encoding=\"utf-8\") as file:\n",
    "        manuscript = json.load(file)\n",
    "\n",
    "    with open(symbolic_tree_path, \"r\", encoding=\"utf-8\") as file:\n",
    "        symbolic_tree = json.load(file)\n",
    "\n",
    "    # system 메시지 생성 (빈 값)\n",
    "    system_message = {\n",
    "        \"role\": \"system\",\n",
    "        \"content\": \"\"\n",
    "    }\n",
    "\n",
    "    # user 메시지에 manuscript 데이터 추가\n",
    "    user_message = {\n",
    "        \"role\": \"user\",\n",
    "        \"content\": json.dumps(manuscript, ensure_ascii=False)  # 객체를 문자열로 변환\n",
    "    }\n",
    "\n",
    "    # assistant 메시지에 symbolic_tree 데이터 추가\n",
    "    assistant_message = {\n",
    "        \"role\": \"assistant\",\n",
    "        \"content\": json.dumps(symbolic_tree, ensure_ascii=False)  # 객체를 문자열로 변환\n",
    "    }\n",
    "\n",
    "    # 메시지 리스트 생성\n",
    "    messages = {\"messages\": [system_message, user_message, assistant_message]}\n",
    "    all_conversations_messages.append(messages)"
   ]
  },
  {
   "cell_type": "code",
   "execution_count": 4,
   "metadata": {},
   "outputs": [],
   "source": [
    "# JSONL 파일로 저장\n",
    "file_path = 'output.jsonl'\n",
    "\n",
    "with open(file_path, 'w', encoding='utf-8') as f:\n",
    "    for conversation in all_conversations_messages:\n",
    "        json_line = json.dumps(conversation, ensure_ascii=False)\n",
    "        f.write(json_line + '\\n')"
   ]
  }
 ],
 "metadata": {
  "kernelspec": {
   "display_name": ".venv",
   "language": "python",
   "name": "python3"
  },
  "language_info": {
   "codemirror_mode": {
    "name": "ipython",
    "version": 3
   },
   "file_extension": ".py",
   "mimetype": "text/x-python",
   "name": "python",
   "nbconvert_exporter": "python",
   "pygments_lexer": "ipython3",
   "version": "3.11.4"
  }
 },
 "nbformat": 4,
 "nbformat_minor": 2
}
