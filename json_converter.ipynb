{
 "cells": [
  {
   "cell_type": "code",
   "execution_count": 1,
   "metadata": {},
   "outputs": [
    {
     "data": {
      "text/plain": [
       "True"
      ]
     },
     "execution_count": 1,
     "metadata": {},
     "output_type": "execute_result"
    }
   ],
   "source": [
    "\n",
    "import pandas as pd\n",
    "import json\n",
    "from dotenv import load_dotenv\n",
    "import os\n",
    "load_dotenv()"
   ]
  },
  {
   "cell_type": "code",
   "execution_count": null,
   "metadata": {},
   "outputs": [],
   "source": [
    "sheet_name = \"김희영\"\n",
    "book_name = \"숨겨진_보석을_찾아서_울릉도,독도\"\n",
    "page_number = 4"
   ]
  },
  {
   "cell_type": "code",
   "execution_count": 3,
   "metadata": {},
   "outputs": [
    {
     "data": {
      "text/html": [
       "<div>\n",
       "<style scoped>\n",
       "    .dataframe tbody tr th:only-of-type {\n",
       "        vertical-align: middle;\n",
       "    }\n",
       "\n",
       "    .dataframe tbody tr th {\n",
       "        vertical-align: top;\n",
       "    }\n",
       "\n",
       "    .dataframe thead th {\n",
       "        text-align: right;\n",
       "    }\n",
       "</style>\n",
       "<table border=\"1\" class=\"dataframe\">\n",
       "  <thead>\n",
       "    <tr style=\"text-align: right;\">\n",
       "      <th></th>\n",
       "      <th>book_name</th>\n",
       "      <th>page_number</th>\n",
       "      <th>1</th>\n",
       "      <th>2</th>\n",
       "      <th>3</th>\n",
       "      <th>4</th>\n",
       "      <th>5</th>\n",
       "      <th>6</th>\n",
       "      <th>7</th>\n",
       "      <th>8</th>\n",
       "      <th>...</th>\n",
       "      <th></th>\n",
       "      <th></th>\n",
       "      <th></th>\n",
       "      <th></th>\n",
       "      <th></th>\n",
       "      <th></th>\n",
       "      <th></th>\n",
       "      <th></th>\n",
       "      <th></th>\n",
       "      <th></th>\n",
       "    </tr>\n",
       "  </thead>\n",
       "  <tbody>\n",
       "  </tbody>\n",
       "</table>\n",
       "<p>0 rows × 22 columns</p>\n",
       "</div>"
      ],
      "text/plain": [
       "Empty DataFrame\n",
       "Columns: [book_name, page_number, 1, 2, 3, 4, 5, 6, 7, 8, 9, , , , , , , , , , , ]\n",
       "Index: []\n",
       "\n",
       "[0 rows x 22 columns]"
      ]
     },
     "execution_count": 3,
     "metadata": {},
     "output_type": "execute_result"
    }
   ],
   "source": [
    "import gspread\n",
    "\n",
    "json_file_path = \"credentials.json\"\n",
    "gc = gspread.service_account(json_file_path)\n",
    "spreadsheet_url = os.getenv(\"SPREADSHEET_URL\")\n",
    "doc = gc.open_by_url(spreadsheet_url)\n",
    "\n",
    "worksheet = doc.worksheet(sheet_name)\n",
    "data = worksheet.get_all_values()\n",
    "df = pd.DataFrame(data[1:], columns=data[0])  # 첫 번째 행을 컬럼 이름으로 사용\n",
    "df[\"page_number\"] = pd.to_numeric(df[\"page_number\"], errors=\"coerce\")\n",
    "df.replace(\"\", pd.NA, inplace=True)\n",
    "df = df[(df['book_name'] == book_name) & (df[\"page_number\"] == int(page_number))] # 책 이름 + 페이지 지정\n",
    "df"
   ]
  },
  {
   "cell_type": "code",
   "execution_count": 4,
   "metadata": {},
   "outputs": [],
   "source": [
    "class LayoutParser:\n",
    "    def __init__(self):\n",
    "        self.elements = {}\n",
    "        self.element_counter = {}\n",
    "    \n",
    "    def generate_element_id(self, element_type):\n",
    "        if element_type not in self.element_counter:\n",
    "            self.element_counter[element_type] = 1\n",
    "        else:\n",
    "            self.element_counter[element_type] += 1\n",
    "        return f\"{element_type}{self.element_counter[element_type]:03d}\"\n",
    "\n",
    "    def create_layout_tree(self, df):\n",
    "        ELEMENTS = ['text', 'image', 'icon']\n",
    "        CONTAINERS = {\n",
    "            'container': ['top2down', 'left2right'],\n",
    "            'textbox': ['top2down', 'left2right'],\n",
    "            'layerlist_tab': ['top', 'down'],\n",
    "            'layerlist_arccodion': ['top2down', 'left2right'],\n",
    "            'layerlist_slider': ['top2down', 'left2right'],\n",
    "            'nac_title': ['top2down', 'left2right'],\n",
    "            'nac_item': ['top2down', 'left2right'],\n",
    "        }\n",
    "        \n",
    "        def create_container_node(symbol_name, direction):\n",
    "            return {\n",
    "                \"symbol_name\": symbol_name,\n",
    "                \"direction\": direction,\n",
    "                \"children\": []\n",
    "            }\n",
    "        \n",
    "        root = create_container_node(\"root\", \"top2down\")\n",
    "        stack = [(root, -1)]  # (node, depth) pairs\n",
    "        \n",
    "        for row in df.itertuples():\n",
    "            row_data = list(row)[3:]\n",
    "            \n",
    "            # Find depth\n",
    "            depth = 0\n",
    "            for val in row_data:\n",
    "                if pd.isna(val):\n",
    "                    depth += 1\n",
    "                else:\n",
    "                    break\n",
    "            \n",
    "            symbol_name = row_data[depth]\n",
    "            \n",
    "            # Find content\n",
    "            content = None\n",
    "            for i in range(depth + 1, len(row_data)):\n",
    "                if not pd.isna(row_data[i]) and row_data[i] not in CONTAINERS and \\\n",
    "                   row_data[i] not in ['top2down', 'left2right', 'top', 'down']:\n",
    "                    if isinstance(row_data[i], str) and not row_data[i] in ELEMENTS:\n",
    "                        content = row_data[i]\n",
    "                        break\n",
    "            \n",
    "            # Create node\n",
    "            if symbol_name in CONTAINERS:\n",
    "                direction = row_data[depth + 1] if len(row_data) > depth + 1 and \\\n",
    "                          not pd.isna(row_data[depth + 1]) else \"top2down\"\n",
    "                new_node = create_container_node(symbol_name, direction)\n",
    "            elif symbol_name in ELEMENTS:\n",
    "                # Generate unique ID for element\n",
    "                element_id = self.generate_element_id(symbol_name)\n",
    "                # Store element in elements dictionary\n",
    "                self.elements[element_id] = {\n",
    "                    \"type\": symbol_name,\n",
    "                    \"content\": content\n",
    "                }\n",
    "                # Use element_id as reference in tree\n",
    "                new_node = element_id\n",
    "            else:\n",
    "                continue\n",
    "            \n",
    "            # Find appropriate parent and add node\n",
    "            while stack and stack[-1][1] >= depth:\n",
    "                stack.pop()\n",
    "            \n",
    "            if stack:\n",
    "                if isinstance(new_node, dict):  # If container\n",
    "                    stack[-1][0][\"children\"].append(new_node)\n",
    "                    stack.append((new_node, depth))\n",
    "                else:  # If element (string ID)\n",
    "                    stack[-1][0][\"children\"].append(new_node)\n",
    "        \n",
    "        return {\n",
    "            \"elements\": self.elements,\n",
    "            \"containers\": root[\"children\"][0] if root[\"children\"] else {}\n",
    "        }"
   ]
  },
  {
   "cell_type": "code",
   "execution_count": 5,
   "metadata": {},
   "outputs": [],
   "source": [
    "parser = LayoutParser()\n",
    "result = parser.create_layout_tree(df)\n",
    "\n",
    "with open(\"output/manuscript.json\", \"w\", encoding=\"utf-8\") as json_file:\n",
    "    json.dump(result['elements'], json_file, ensure_ascii=False, indent=4)\n",
    "with open(\"output/symbolic_tree.json\", \"w\", encoding=\"utf-8\") as json_file:\n",
    "    json.dump(result['containers'], json_file, ensure_ascii=False, indent=4)"
   ]
  }
 ],
 "metadata": {
  "kernelspec": {
   "display_name": ".venv",
   "language": "python",
   "name": "python3"
  },
  "language_info": {
   "codemirror_mode": {
    "name": "ipython",
    "version": 3
   },
   "file_extension": ".py",
   "mimetype": "text/x-python",
   "name": "python",
   "nbconvert_exporter": "python",
   "pygments_lexer": "ipython3",
   "version": "3.11.4"
  }
 },
 "nbformat": 4,
 "nbformat_minor": 2
}
